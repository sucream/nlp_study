{
 "cells": [
  {
   "cell_type": "markdown",
   "metadata": {},
   "source": [
    "## Bag of words"
   ]
  },
  {
   "cell_type": "code",
   "execution_count": 6,
   "metadata": {},
   "outputs": [
    {
     "data": {
      "text/plain": [
       "['남수가',\n",
       " '더',\n",
       " '빨리',\n",
       " '학습할',\n",
       " '수록',\n",
       " ',',\n",
       " '더',\n",
       " '빨리',\n",
       " '챗봇을',\n",
       " '만들',\n",
       " '것이다.',\n",
       " '남수는',\n",
       " '챗봇과',\n",
       " '관련된',\n",
       " '더',\n",
       " '많은',\n",
       " '내용이',\n",
       " '알고',\n",
       " '싶다',\n",
       " '.']"
      ]
     },
     "execution_count": 6,
     "metadata": {},
     "output_type": "execute_result"
    }
   ],
   "source": [
    "from nltk.tokenize import TreebankWordTokenizer\n",
    "\n",
    "sentence = \"\"\"남수가 더 빨리 학습할 수록, 더 빨리 챗봇을 만들 것이다.\n",
    "남수는 챗봇과 관련된 더 많은 내용이 알고 싶다.\"\"\"\n",
    "tokenizer = TreebankWordTokenizer()\n",
    "tokens = tokenizer.tokenize(sentence)\n",
    "tokens"
   ]
  },
  {
   "cell_type": "markdown",
   "metadata": {},
   "source": [
    "#### Counter"
   ]
  },
  {
   "cell_type": "code",
   "execution_count": 7,
   "metadata": {},
   "outputs": [
    {
     "data": {
      "text/plain": [
       "Counter({'남수가': 1,\n",
       "         '더': 3,\n",
       "         '빨리': 2,\n",
       "         '학습할': 1,\n",
       "         '수록': 1,\n",
       "         ',': 1,\n",
       "         '챗봇을': 1,\n",
       "         '만들': 1,\n",
       "         '것이다.': 1,\n",
       "         '남수는': 1,\n",
       "         '챗봇과': 1,\n",
       "         '관련된': 1,\n",
       "         '많은': 1,\n",
       "         '내용이': 1,\n",
       "         '알고': 1,\n",
       "         '싶다': 1,\n",
       "         '.': 1})"
      ]
     },
     "execution_count": 7,
     "metadata": {},
     "output_type": "execute_result"
    }
   ],
   "source": [
    "from collections import Counter\n",
    "bag_of_words = Counter(tokens)\n",
    "bag_of_words"
   ]
  },
  {
   "cell_type": "code",
   "execution_count": 8,
   "metadata": {},
   "outputs": [
    {
     "data": {
      "text/plain": [
       "[('더', 3), ('빨리', 2), ('남수가', 1)]"
      ]
     },
     "execution_count": 8,
     "metadata": {},
     "output_type": "execute_result"
    }
   ],
   "source": [
    "bag_of_words.most_common(3)"
   ]
  },
  {
   "cell_type": "markdown",
   "metadata": {},
   "source": [
    "## TF (Term Frequency)확인"
   ]
  },
  {
   "cell_type": "code",
   "execution_count": 15,
   "metadata": {},
   "outputs": [
    {
     "name": "stdout",
     "output_type": "stream",
     "text": [
      "times_hurry_appears = 3\n",
      "num_uniqe_words = 17\n",
      "times_hurry_appears / num_uniqe_words = 0.1765\n"
     ]
    }
   ],
   "source": [
    "times_hurry_appears = bag_of_words['더']\n",
    "print('times_hurry_appears =', times_hurry_appears)\n",
    "num_uniqe_words = len(bag_of_words)\n",
    "print('num_uniqe_words =', num_uniqe_words)\n",
    "tf = times_hurry_appears / num_uniqe_words\n",
    "print('times_hurry_appears / num_uniqe_words =', round(tf, 4))"
   ]
  },
  {
   "cell_type": "markdown",
   "metadata": {},
   "source": [
    "#### 단순히 단어의 빈도만으로는 문서의 중요 단어라 할 수 없음\n",
    "- TF(\"dog\", documentA) = 3/30 = .1\n",
    "- TF(\"dog\", documentB) = 100/580000 = .00017"
   ]
  },
  {
   "cell_type": "code",
   "execution_count": null,
   "metadata": {},
   "outputs": [],
   "source": []
  },
  {
   "cell_type": "code",
   "execution_count": null,
   "metadata": {},
   "outputs": [],
   "source": []
  },
  {
   "cell_type": "code",
   "execution_count": null,
   "metadata": {},
   "outputs": [],
   "source": []
  },
  {
   "cell_type": "code",
   "execution_count": null,
   "metadata": {},
   "outputs": [],
   "source": []
  }
 ],
 "metadata": {
  "kernelspec": {
   "display_name": "Python 3",
   "language": "python",
   "name": "python3"
  },
  "language_info": {
   "codemirror_mode": {
    "name": "ipython",
    "version": 3
   },
   "file_extension": ".py",
   "mimetype": "text/x-python",
   "name": "python",
   "nbconvert_exporter": "python",
   "pygments_lexer": "ipython3",
   "version": "3.6.5"
  }
 },
 "nbformat": 4,
 "nbformat_minor": 2
}
