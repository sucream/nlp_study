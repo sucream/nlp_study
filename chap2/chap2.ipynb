{
 "cells": [
  {
   "cell_type": "code",
   "execution_count": 1,
   "metadata": {},
   "outputs": [],
   "source": [
    "sentence = '남수는 25살에 챗봇을 만들기 시작했다. 남수는 NLP를 공부한다.'"
   ]
  },
  {
   "cell_type": "markdown",
   "metadata": {},
   "source": [
    "- 문자열.split() 함수는 인자를 기준으로 문자열을 분리하여 파이썬 리스트('[]')의 형태로 반환"
   ]
  },
  {
   "cell_type": "code",
   "execution_count": 2,
   "metadata": {},
   "outputs": [
    {
     "data": {
      "text/plain": [
       "['남수는', '25살에', '챗봇을', '만들기', '시작했다.', '남수는', 'NLP를', '공부한다.']"
      ]
     },
     "execution_count": 2,
     "metadata": {},
     "output_type": "execute_result"
    }
   ],
   "source": [
    "sentence.split()"
   ]
  },
  {
   "cell_type": "code",
   "execution_count": 3,
   "metadata": {},
   "outputs": [
    {
     "data": {
      "text/plain": [
       "['남수는 ', '5살에 챗봇을 만들기 시작했다. 남수는 NLP를 공부한다.']"
      ]
     },
     "execution_count": 3,
     "metadata": {},
     "output_type": "execute_result"
    }
   ],
   "source": [
    "str.split(sentence, '2')  # str을 이용한 분리도 가능"
   ]
  },
  {
   "cell_type": "markdown",
   "metadata": {},
   "source": [
    "## numpy를 사용해 보자"
   ]
  },
  {
   "cell_type": "code",
   "execution_count": 4,
   "metadata": {},
   "outputs": [],
   "source": [
    "import numpy as np  # 관행적으로 numpy는 np로 줄여 사용"
   ]
  },
  {
   "cell_type": "code",
   "execution_count": 5,
   "metadata": {},
   "outputs": [
    {
     "data": {
      "text/plain": [
       "'25살에, NLP를, 공부한다., 남수는, 만들기, 시작했다., 챗봇을'"
      ]
     },
     "execution_count": 5,
     "metadata": {},
     "output_type": "execute_result"
    }
   ],
   "source": [
    "token_sequence = str.split(sentence)\n",
    "vocab = sorted(set(token_sequence))  # set은 데이터의 중복을 없애고 순서를 지키지 않는 데이터 타입\n",
    "', '.join(vocab)"
   ]
  },
  {
   "cell_type": "markdown",
   "metadata": {},
   "source": [
    "#### tip) set의 특징을 확인해 보자"
   ]
  },
  {
   "cell_type": "code",
   "execution_count": 6,
   "metadata": {},
   "outputs": [],
   "source": [
    "text = '남수는 배가 고프다. 남수는 오늘도 회사에 출근한다. 남수는 NLP를 공부한다.'"
   ]
  },
  {
   "cell_type": "code",
   "execution_count": 7,
   "metadata": {},
   "outputs": [
    {
     "name": "stdout",
     "output_type": "stream",
     "text": [
      "['남수는', '배가', '고프다.', '남수는', '오늘도', '회사에', '출근한다.', '남수는', 'NLP를', '공부한다.']\n",
      "전체 길이: 10\n"
     ]
    }
   ],
   "source": [
    "print(text.split())\n",
    "print('전체 길이: {}'.format(len(text.split())))"
   ]
  },
  {
   "cell_type": "code",
   "execution_count": 8,
   "metadata": {},
   "outputs": [
    {
     "name": "stdout",
     "output_type": "stream",
     "text": [
      "{'출근한다.', '공부한다.', '오늘도', '고프다.', 'NLP를', '배가', '회사에', '남수는'}\n",
      "전체 길이: 8\n"
     ]
    }
   ],
   "source": [
    "print(set(text.split()))\n",
    "print('전체 길이: {}'.format(len(set(text.split()))))"
   ]
  },
  {
   "cell_type": "markdown",
   "metadata": {},
   "source": [
    "## One-hot vectors 생성"
   ]
  },
  {
   "cell_type": "code",
   "execution_count": 9,
   "metadata": {},
   "outputs": [
    {
     "name": "stdout",
     "output_type": "stream",
     "text": [
      "토큰의 개수: 8\n",
      "단어집 사이즈: 7\n"
     ]
    },
    {
     "data": {
      "text/plain": [
       "array([[0, 0, 0, 0, 0, 0, 0],\n",
       "       [0, 0, 0, 0, 0, 0, 0],\n",
       "       [0, 0, 0, 0, 0, 0, 0],\n",
       "       [0, 0, 0, 0, 0, 0, 0],\n",
       "       [0, 0, 0, 0, 0, 0, 0],\n",
       "       [0, 0, 0, 0, 0, 0, 0],\n",
       "       [0, 0, 0, 0, 0, 0, 0],\n",
       "       [0, 0, 0, 0, 0, 0, 0]])"
      ]
     },
     "execution_count": 9,
     "metadata": {},
     "output_type": "execute_result"
    }
   ],
   "source": [
    "num_tokens = len(token_sequence)\n",
    "print('토큰의 개수:', num_tokens)\n",
    "vocab_size = len(vocab)\n",
    "print('단어집 사이즈:', vocab_size)\n",
    "onehot_vectors = np.zeros((num_tokens, vocab_size), int)  # 토큰 개수 x 단어집 사이즈 배열 생성, 내부의 값을 int로\n",
    "# onehot_vectors = np.zeros((num_tokens, vocab_size))  # default는 float형\n",
    "onehot_vectors"
   ]
  },
  {
   "cell_type": "markdown",
   "metadata": {},
   "source": [
    "## 벡터에 데이터를 넣어보자"
   ]
  },
  {
   "cell_type": "code",
   "execution_count": 10,
   "metadata": {},
   "outputs": [
    {
     "name": "stdout",
     "output_type": "stream",
     "text": [
      "token_sequence: ['남수는', '25살에', '챗봇을', '만들기', '시작했다.', '남수는', 'NLP를', '공부한다.']\n",
      "vocab: ['25살에', 'NLP를', '공부한다.', '남수는', '만들기', '시작했다.', '챗봇을']\n",
      "vocab.index('남수는'): 3\n",
      "\n",
      "현재 i값: 0 현재  word: 남수는\n",
      "vocab.index(word)값: 3\n",
      "현재 i값: 1 현재  word: 25살에\n",
      "vocab.index(word)값: 0\n",
      "현재 i값: 2 현재  word: 챗봇을\n",
      "vocab.index(word)값: 6\n",
      "현재 i값: 3 현재  word: 만들기\n",
      "vocab.index(word)값: 4\n",
      "현재 i값: 4 현재  word: 시작했다.\n",
      "vocab.index(word)값: 5\n",
      "현재 i값: 5 현재  word: 남수는\n",
      "vocab.index(word)값: 3\n",
      "현재 i값: 6 현재  word: NLP를\n",
      "vocab.index(word)값: 1\n",
      "현재 i값: 7 현재  word: 공부한다.\n",
      "vocab.index(word)값: 2\n"
     ]
    },
    {
     "data": {
      "text/plain": [
       "array([[0, 0, 0, 1, 0, 0, 0],\n",
       "       [1, 0, 0, 0, 0, 0, 0],\n",
       "       [0, 0, 0, 0, 0, 0, 1],\n",
       "       [0, 0, 0, 0, 1, 0, 0],\n",
       "       [0, 0, 0, 0, 0, 1, 0],\n",
       "       [0, 0, 0, 1, 0, 0, 0],\n",
       "       [0, 1, 0, 0, 0, 0, 0],\n",
       "       [0, 0, 1, 0, 0, 0, 0]])"
      ]
     },
     "execution_count": 10,
     "metadata": {},
     "output_type": "execute_result"
    }
   ],
   "source": [
    "print('token_sequence:', token_sequence)\n",
    "print('vocab:', vocab)\n",
    "print('vocab.index(\\'남수는\\'):', vocab.index('남수는'))  # 남수는 이라는 단어의 index를 반환\n",
    "print()\n",
    "for i, word in enumerate(token_sequence):\n",
    "    print('현재 i값:', i, '현재  word:', word)\n",
    "    print('vocab.index(word)값:', vocab.index(word))\n",
    "    onehot_vectors[i, vocab.index(word)] = 1\n",
    "    \n",
    "onehot_vectors"
   ]
  },
  {
   "cell_type": "markdown",
   "metadata": {},
   "source": [
    "#### tip) enumerate를 이해해 보자"
   ]
  },
  {
   "cell_type": "code",
   "execution_count": 11,
   "metadata": {},
   "outputs": [
    {
     "data": {
      "text/plain": [
       "['남수는', '25살에', '챗봇을', '만들기', '시작했다.', '남수는', 'NLP를', '공부한다.']"
      ]
     },
     "execution_count": 11,
     "metadata": {},
     "output_type": "execute_result"
    }
   ],
   "source": [
    "information = sentence.split()\n",
    "information"
   ]
  },
  {
   "cell_type": "code",
   "execution_count": 12,
   "metadata": {},
   "outputs": [
    {
     "data": {
      "text/plain": [
       "<enumerate at 0x7f8415926708>"
      ]
     },
     "execution_count": 12,
     "metadata": {},
     "output_type": "execute_result"
    }
   ],
   "source": [
    "enumerate(information)"
   ]
  },
  {
   "cell_type": "code",
   "execution_count": 13,
   "metadata": {},
   "outputs": [
    {
     "name": "stdout",
     "output_type": "stream",
     "text": [
      "남수는\n",
      "25살에\n",
      "챗봇을\n",
      "만들기\n",
      "시작했다.\n",
      "남수는\n",
      "NLP를\n",
      "공부한다.\n"
     ]
    }
   ],
   "source": [
    "for value in information:  # 일반적인 리스트는 해당 원소를 반환한다\n",
    "    print(value)"
   ]
  },
  {
   "cell_type": "code",
   "execution_count": 14,
   "metadata": {},
   "outputs": [
    {
     "name": "stdout",
     "output_type": "stream",
     "text": [
      "0 남수는\n",
      "1 25살에\n",
      "2 챗봇을\n",
      "3 만들기\n",
      "4 시작했다.\n",
      "5 남수는\n",
      "6 NLP를\n",
      "7 공부한다.\n"
     ]
    }
   ],
   "source": [
    "for index, value in enumerate(information):  # enumernate는 해당 원소와 원소의 인덱스를 반환\n",
    "    print(index, value)"
   ]
  },
  {
   "cell_type": "code",
   "execution_count": 15,
   "metadata": {},
   "outputs": [
    {
     "data": {
      "text/plain": [
       "array([[0, 0, 0, 1, 0, 0, 0],\n",
       "       [1, 0, 0, 0, 0, 0, 0],\n",
       "       [0, 0, 0, 0, 0, 0, 1],\n",
       "       [0, 0, 0, 0, 1, 0, 0],\n",
       "       [0, 0, 0, 0, 0, 1, 0],\n",
       "       [0, 0, 0, 1, 0, 0, 0],\n",
       "       [0, 1, 0, 0, 0, 0, 0],\n",
       "       [0, 0, 1, 0, 0, 0, 0]])"
      ]
     },
     "execution_count": 15,
     "metadata": {},
     "output_type": "execute_result"
    }
   ],
   "source": [
    "onehot_vectors  # 벡터를 확인해보자"
   ]
  },
  {
   "cell_type": "markdown",
   "metadata": {},
   "source": [
    "## Pandas를 사용해보자"
   ]
  },
  {
   "cell_type": "code",
   "execution_count": 16,
   "metadata": {
    "scrolled": true
   },
   "outputs": [
    {
     "name": "stdout",
     "output_type": "stream",
     "text": [
      "['25살에', 'NLP를', '공부한다.', '남수는', '만들기', '시작했다.', '챗봇을']\n"
     ]
    },
    {
     "data": {
      "text/html": [
       "<div>\n",
       "<style scoped>\n",
       "    .dataframe tbody tr th:only-of-type {\n",
       "        vertical-align: middle;\n",
       "    }\n",
       "\n",
       "    .dataframe tbody tr th {\n",
       "        vertical-align: top;\n",
       "    }\n",
       "\n",
       "    .dataframe thead th {\n",
       "        text-align: right;\n",
       "    }\n",
       "</style>\n",
       "<table border=\"1\" class=\"dataframe\">\n",
       "  <thead>\n",
       "    <tr style=\"text-align: right;\">\n",
       "      <th></th>\n",
       "      <th>25살에</th>\n",
       "      <th>NLP를</th>\n",
       "      <th>공부한다.</th>\n",
       "      <th>남수는</th>\n",
       "      <th>만들기</th>\n",
       "      <th>시작했다.</th>\n",
       "      <th>챗봇을</th>\n",
       "    </tr>\n",
       "  </thead>\n",
       "  <tbody>\n",
       "    <tr>\n",
       "      <th>0</th>\n",
       "      <td>0</td>\n",
       "      <td>0</td>\n",
       "      <td>0</td>\n",
       "      <td>1</td>\n",
       "      <td>0</td>\n",
       "      <td>0</td>\n",
       "      <td>0</td>\n",
       "    </tr>\n",
       "    <tr>\n",
       "      <th>1</th>\n",
       "      <td>1</td>\n",
       "      <td>0</td>\n",
       "      <td>0</td>\n",
       "      <td>0</td>\n",
       "      <td>0</td>\n",
       "      <td>0</td>\n",
       "      <td>0</td>\n",
       "    </tr>\n",
       "    <tr>\n",
       "      <th>2</th>\n",
       "      <td>0</td>\n",
       "      <td>0</td>\n",
       "      <td>0</td>\n",
       "      <td>0</td>\n",
       "      <td>0</td>\n",
       "      <td>0</td>\n",
       "      <td>1</td>\n",
       "    </tr>\n",
       "    <tr>\n",
       "      <th>3</th>\n",
       "      <td>0</td>\n",
       "      <td>0</td>\n",
       "      <td>0</td>\n",
       "      <td>0</td>\n",
       "      <td>1</td>\n",
       "      <td>0</td>\n",
       "      <td>0</td>\n",
       "    </tr>\n",
       "    <tr>\n",
       "      <th>4</th>\n",
       "      <td>0</td>\n",
       "      <td>0</td>\n",
       "      <td>0</td>\n",
       "      <td>0</td>\n",
       "      <td>0</td>\n",
       "      <td>1</td>\n",
       "      <td>0</td>\n",
       "    </tr>\n",
       "    <tr>\n",
       "      <th>5</th>\n",
       "      <td>0</td>\n",
       "      <td>0</td>\n",
       "      <td>0</td>\n",
       "      <td>1</td>\n",
       "      <td>0</td>\n",
       "      <td>0</td>\n",
       "      <td>0</td>\n",
       "    </tr>\n",
       "    <tr>\n",
       "      <th>6</th>\n",
       "      <td>0</td>\n",
       "      <td>1</td>\n",
       "      <td>0</td>\n",
       "      <td>0</td>\n",
       "      <td>0</td>\n",
       "      <td>0</td>\n",
       "      <td>0</td>\n",
       "    </tr>\n",
       "    <tr>\n",
       "      <th>7</th>\n",
       "      <td>0</td>\n",
       "      <td>0</td>\n",
       "      <td>1</td>\n",
       "      <td>0</td>\n",
       "      <td>0</td>\n",
       "      <td>0</td>\n",
       "      <td>0</td>\n",
       "    </tr>\n",
       "  </tbody>\n",
       "</table>\n",
       "</div>"
      ],
      "text/plain": [
       "   25살에  NLP를  공부한다.  남수는  만들기  시작했다.  챗봇을\n",
       "0     0     0      0    1    0      0    0\n",
       "1     1     0      0    0    0      0    0\n",
       "2     0     0      0    0    0      0    1\n",
       "3     0     0      0    0    1      0    0\n",
       "4     0     0      0    0    0      1    0\n",
       "5     0     0      0    1    0      0    0\n",
       "6     0     1      0    0    0      0    0\n",
       "7     0     0      1    0    0      0    0"
      ]
     },
     "execution_count": 16,
     "metadata": {},
     "output_type": "execute_result"
    }
   ],
   "source": [
    "import pandas as pd  # 관행적으로 pandas는 pd로 줄여서 사용\n",
    "\n",
    "print(vocab)\n",
    "pd.DataFrame(onehot_vectors, columns=vocab)  # one-hot vectors를 vocab을 컬럼명읋 사용하여 엑셀처럼 사용"
   ]
  },
  {
   "cell_type": "code",
   "execution_count": 17,
   "metadata": {},
   "outputs": [
    {
     "data": {
      "text/html": [
       "<div>\n",
       "<style scoped>\n",
       "    .dataframe tbody tr th:only-of-type {\n",
       "        vertical-align: middle;\n",
       "    }\n",
       "\n",
       "    .dataframe tbody tr th {\n",
       "        vertical-align: top;\n",
       "    }\n",
       "\n",
       "    .dataframe thead th {\n",
       "        text-align: right;\n",
       "    }\n",
       "</style>\n",
       "<table border=\"1\" class=\"dataframe\">\n",
       "  <thead>\n",
       "    <tr style=\"text-align: right;\">\n",
       "      <th></th>\n",
       "      <th>25살에</th>\n",
       "      <th>NLP를</th>\n",
       "      <th>공부한다.</th>\n",
       "      <th>남수는</th>\n",
       "      <th>만들기</th>\n",
       "      <th>시작했다.</th>\n",
       "      <th>챗봇을</th>\n",
       "    </tr>\n",
       "  </thead>\n",
       "  <tbody>\n",
       "    <tr>\n",
       "      <th>0</th>\n",
       "      <td>True</td>\n",
       "      <td>True</td>\n",
       "      <td>True</td>\n",
       "      <td>False</td>\n",
       "      <td>True</td>\n",
       "      <td>True</td>\n",
       "      <td>True</td>\n",
       "    </tr>\n",
       "    <tr>\n",
       "      <th>1</th>\n",
       "      <td>False</td>\n",
       "      <td>True</td>\n",
       "      <td>True</td>\n",
       "      <td>True</td>\n",
       "      <td>True</td>\n",
       "      <td>True</td>\n",
       "      <td>True</td>\n",
       "    </tr>\n",
       "    <tr>\n",
       "      <th>2</th>\n",
       "      <td>True</td>\n",
       "      <td>True</td>\n",
       "      <td>True</td>\n",
       "      <td>True</td>\n",
       "      <td>True</td>\n",
       "      <td>True</td>\n",
       "      <td>False</td>\n",
       "    </tr>\n",
       "    <tr>\n",
       "      <th>3</th>\n",
       "      <td>True</td>\n",
       "      <td>True</td>\n",
       "      <td>True</td>\n",
       "      <td>True</td>\n",
       "      <td>False</td>\n",
       "      <td>True</td>\n",
       "      <td>True</td>\n",
       "    </tr>\n",
       "    <tr>\n",
       "      <th>4</th>\n",
       "      <td>True</td>\n",
       "      <td>True</td>\n",
       "      <td>True</td>\n",
       "      <td>True</td>\n",
       "      <td>True</td>\n",
       "      <td>False</td>\n",
       "      <td>True</td>\n",
       "    </tr>\n",
       "    <tr>\n",
       "      <th>5</th>\n",
       "      <td>True</td>\n",
       "      <td>True</td>\n",
       "      <td>True</td>\n",
       "      <td>False</td>\n",
       "      <td>True</td>\n",
       "      <td>True</td>\n",
       "      <td>True</td>\n",
       "    </tr>\n",
       "    <tr>\n",
       "      <th>6</th>\n",
       "      <td>True</td>\n",
       "      <td>False</td>\n",
       "      <td>True</td>\n",
       "      <td>True</td>\n",
       "      <td>True</td>\n",
       "      <td>True</td>\n",
       "      <td>True</td>\n",
       "    </tr>\n",
       "    <tr>\n",
       "      <th>7</th>\n",
       "      <td>True</td>\n",
       "      <td>True</td>\n",
       "      <td>False</td>\n",
       "      <td>True</td>\n",
       "      <td>True</td>\n",
       "      <td>True</td>\n",
       "      <td>True</td>\n",
       "    </tr>\n",
       "  </tbody>\n",
       "</table>\n",
       "</div>"
      ],
      "text/plain": [
       "    25살에   NLP를  공부한다.    남수는    만들기  시작했다.    챗봇을\n",
       "0   True   True   True  False   True   True   True\n",
       "1  False   True   True   True   True   True   True\n",
       "2   True   True   True   True   True   True  False\n",
       "3   True   True   True   True  False   True   True\n",
       "4   True   True   True   True   True  False   True\n",
       "5   True   True   True  False   True   True   True\n",
       "6   True  False   True   True   True   True   True\n",
       "7   True   True  False   True   True   True   True"
      ]
     },
     "execution_count": 17,
     "metadata": {},
     "output_type": "execute_result"
    }
   ],
   "source": [
    "df = pd.DataFrame(onehot_vectors, columns=vocab)\n",
    "df == 0"
   ]
  },
  {
   "cell_type": "code",
   "execution_count": 18,
   "metadata": {},
   "outputs": [
    {
     "data": {
      "text/html": [
       "<div>\n",
       "<style scoped>\n",
       "    .dataframe tbody tr th:only-of-type {\n",
       "        vertical-align: middle;\n",
       "    }\n",
       "\n",
       "    .dataframe tbody tr th {\n",
       "        vertical-align: top;\n",
       "    }\n",
       "\n",
       "    .dataframe thead th {\n",
       "        text-align: right;\n",
       "    }\n",
       "</style>\n",
       "<table border=\"1\" class=\"dataframe\">\n",
       "  <thead>\n",
       "    <tr style=\"text-align: right;\">\n",
       "      <th></th>\n",
       "      <th>25살에</th>\n",
       "      <th>NLP를</th>\n",
       "      <th>공부한다.</th>\n",
       "      <th>남수는</th>\n",
       "      <th>만들기</th>\n",
       "      <th>시작했다.</th>\n",
       "      <th>챗봇을</th>\n",
       "    </tr>\n",
       "  </thead>\n",
       "  <tbody>\n",
       "    <tr>\n",
       "      <th>0</th>\n",
       "      <td></td>\n",
       "      <td></td>\n",
       "      <td></td>\n",
       "      <td>1</td>\n",
       "      <td></td>\n",
       "      <td></td>\n",
       "      <td></td>\n",
       "    </tr>\n",
       "    <tr>\n",
       "      <th>1</th>\n",
       "      <td>1</td>\n",
       "      <td></td>\n",
       "      <td></td>\n",
       "      <td></td>\n",
       "      <td></td>\n",
       "      <td></td>\n",
       "      <td></td>\n",
       "    </tr>\n",
       "    <tr>\n",
       "      <th>2</th>\n",
       "      <td></td>\n",
       "      <td></td>\n",
       "      <td></td>\n",
       "      <td></td>\n",
       "      <td></td>\n",
       "      <td></td>\n",
       "      <td>1</td>\n",
       "    </tr>\n",
       "    <tr>\n",
       "      <th>3</th>\n",
       "      <td></td>\n",
       "      <td></td>\n",
       "      <td></td>\n",
       "      <td></td>\n",
       "      <td>1</td>\n",
       "      <td></td>\n",
       "      <td></td>\n",
       "    </tr>\n",
       "    <tr>\n",
       "      <th>4</th>\n",
       "      <td></td>\n",
       "      <td></td>\n",
       "      <td></td>\n",
       "      <td></td>\n",
       "      <td></td>\n",
       "      <td>1</td>\n",
       "      <td></td>\n",
       "    </tr>\n",
       "    <tr>\n",
       "      <th>5</th>\n",
       "      <td></td>\n",
       "      <td></td>\n",
       "      <td></td>\n",
       "      <td>1</td>\n",
       "      <td></td>\n",
       "      <td></td>\n",
       "      <td></td>\n",
       "    </tr>\n",
       "    <tr>\n",
       "      <th>6</th>\n",
       "      <td></td>\n",
       "      <td>1</td>\n",
       "      <td></td>\n",
       "      <td></td>\n",
       "      <td></td>\n",
       "      <td></td>\n",
       "      <td></td>\n",
       "    </tr>\n",
       "    <tr>\n",
       "      <th>7</th>\n",
       "      <td></td>\n",
       "      <td></td>\n",
       "      <td>1</td>\n",
       "      <td></td>\n",
       "      <td></td>\n",
       "      <td></td>\n",
       "      <td></td>\n",
       "    </tr>\n",
       "  </tbody>\n",
       "</table>\n",
       "</div>"
      ],
      "text/plain": [
       "  25살에 NLP를 공부한다. 남수는 만들기 시작했다. 챗봇을\n",
       "0                   1              \n",
       "1    1                             \n",
       "2                                 1\n",
       "3                       1          \n",
       "4                             1    \n",
       "5                   1              \n",
       "6         1                        \n",
       "7               1                  "
      ]
     },
     "execution_count": 18,
     "metadata": {},
     "output_type": "execute_result"
    }
   ],
   "source": [
    "df[df == 0] = ''  # df의 모든 원소를 0과 비교하여 참이면 해당 값을 공백으로 채움\n",
    "df"
   ]
  },
  {
   "cell_type": "markdown",
   "metadata": {},
   "source": [
    "## Bag-of-words"
   ]
  },
  {
   "cell_type": "code",
   "execution_count": 19,
   "metadata": {},
   "outputs": [
    {
     "data": {
      "text/plain": [
       "{'남수는': 1, '25살에': 1, '챗봇을': 1, '만들기': 1, '시작했다.': 1, 'NLP를': 1, '공부한다.': 1}"
      ]
     },
     "execution_count": 19,
     "metadata": {},
     "output_type": "execute_result"
    }
   ],
   "source": [
    "sentence_bow = {}\n",
    "\n",
    "for token in sentence.split():\n",
    "    sentence_bow[token] = 1\n",
    "    \n",
    "sentence_bow"
   ]
  },
  {
   "cell_type": "code",
   "execution_count": 20,
   "metadata": {},
   "outputs": [
    {
     "data": {
      "text/plain": [
       "[('25살에', 1),\n",
       " ('NLP를', 1),\n",
       " ('공부한다.', 1),\n",
       " ('남수는', 1),\n",
       " ('만들기', 1),\n",
       " ('시작했다.', 1),\n",
       " ('챗봇을', 1)]"
      ]
     },
     "execution_count": 20,
     "metadata": {},
     "output_type": "execute_result"
    }
   ],
   "source": [
    "sorted(sentence_bow.items())  # 정렬~\n",
    "# sorted(sentence_bow.items(), reverse=True)  # 역순으로 정렬"
   ]
  },
  {
   "cell_type": "markdown",
   "metadata": {},
   "source": [
    "#### tip) dict.items()에 대해 알아보자\n",
    "- dict는 key, value를 가지는 파이썬 데이터 타입\n",
    "- dict.keys() 명령으로 key값만 획득 가능\n",
    "- dict.values() 명령으로 value값만 획득 가능"
   ]
  },
  {
   "cell_type": "code",
   "execution_count": 21,
   "metadata": {},
   "outputs": [
    {
     "name": "stdout",
     "output_type": "stream",
     "text": [
      "{'남수는': 1, '25살에': 1, '챗봇을': 1, '만들기': 1, '시작했다.': 1, 'NLP를': 1, '공부한다.': 1}\n",
      "dict_keys(['남수는', '25살에', '챗봇을', '만들기', '시작했다.', 'NLP를', '공부한다.'])\n",
      "dict_values([1, 1, 1, 1, 1, 1, 1])\n"
     ]
    }
   ],
   "source": [
    "test_dict = sentence_bow\n",
    "print(test_dict)\n",
    "print(test_dict.keys())\n",
    "print(test_dict.values())"
   ]
  },
  {
   "cell_type": "code",
   "execution_count": 22,
   "metadata": {},
   "outputs": [
    {
     "name": "stdout",
     "output_type": "stream",
     "text": [
      "남수는\n",
      "25살에\n",
      "챗봇을\n",
      "만들기\n",
      "시작했다.\n",
      "NLP를\n",
      "공부한다.\n"
     ]
    }
   ],
   "source": [
    "for i in test_dict:  # 딕셔너리를 for문 돌리면 원소만 반환한다\n",
    "    print(i)"
   ]
  },
  {
   "cell_type": "code",
   "execution_count": 23,
   "metadata": {},
   "outputs": [
    {
     "data": {
      "text/plain": [
       "dict_items([('남수는', 1), ('25살에', 1), ('챗봇을', 1), ('만들기', 1), ('시작했다.', 1), ('NLP를', 1), ('공부한다.', 1)])"
      ]
     },
     "execution_count": 23,
     "metadata": {},
     "output_type": "execute_result"
    }
   ],
   "source": [
    "test_dict.items()  # items()는 key와 value를 tuple의 형태로 묶어서 반환한다"
   ]
  },
  {
   "cell_type": "markdown",
   "metadata": {},
   "source": [
    "- tip) unpack 기능"
   ]
  },
  {
   "cell_type": "code",
   "execution_count": 24,
   "metadata": {},
   "outputs": [
    {
     "name": "stdout",
     "output_type": "stream",
     "text": [
      "<class 'tuple'>\n",
      "남수 <class 'str'>\n",
      "12 <class 'int'>\n"
     ]
    }
   ],
   "source": [
    "data = ('남수', 12)  # 튜플\n",
    "print(type(data))\n",
    "key, value = data  # 튜플로 이루어진 데이터를 분리\n",
    "print(key, type(key))\n",
    "print(value, type(value))"
   ]
  },
  {
   "cell_type": "code",
   "execution_count": 25,
   "metadata": {},
   "outputs": [
    {
     "name": "stdout",
     "output_type": "stream",
     "text": [
      "('남수', 12) <class 'tuple'>\n"
     ]
    }
   ],
   "source": [
    "new_data = key, value  # 반대도 가능\n",
    "print(new_data, type(new_data))"
   ]
  },
  {
   "cell_type": "code",
   "execution_count": 26,
   "metadata": {},
   "outputs": [
    {
     "name": "stdout",
     "output_type": "stream",
     "text": [
      "key: 남수는 value: 1\n",
      "key: 25살에 value: 1\n",
      "key: 챗봇을 value: 1\n",
      "key: 만들기 value: 1\n",
      "key: 시작했다. value: 1\n",
      "key: NLP를 value: 1\n",
      "key: 공부한다. value: 1\n"
     ]
    }
   ],
   "source": [
    "for key, value in test_dict.items():  # items()를 이용한 unpack\n",
    "    print('key:', key, 'value:', value)"
   ]
  },
  {
   "cell_type": "markdown",
   "metadata": {},
   "source": [
    "##  Pandas 조금 더"
   ]
  },
  {
   "cell_type": "code",
   "execution_count": 27,
   "metadata": {},
   "outputs": [
    {
     "data": {
      "text/html": [
       "<div>\n",
       "<style scoped>\n",
       "    .dataframe tbody tr th:only-of-type {\n",
       "        vertical-align: middle;\n",
       "    }\n",
       "\n",
       "    .dataframe tbody tr th {\n",
       "        vertical-align: top;\n",
       "    }\n",
       "\n",
       "    .dataframe thead th {\n",
       "        text-align: right;\n",
       "    }\n",
       "</style>\n",
       "<table border=\"1\" class=\"dataframe\">\n",
       "  <thead>\n",
       "    <tr style=\"text-align: right;\">\n",
       "      <th></th>\n",
       "      <th>sent</th>\n",
       "    </tr>\n",
       "  </thead>\n",
       "  <tbody>\n",
       "    <tr>\n",
       "      <th>남수는</th>\n",
       "      <td>1</td>\n",
       "    </tr>\n",
       "    <tr>\n",
       "      <th>25살에</th>\n",
       "      <td>1</td>\n",
       "    </tr>\n",
       "    <tr>\n",
       "      <th>챗봇을</th>\n",
       "      <td>1</td>\n",
       "    </tr>\n",
       "    <tr>\n",
       "      <th>만들기</th>\n",
       "      <td>1</td>\n",
       "    </tr>\n",
       "    <tr>\n",
       "      <th>시작했다.</th>\n",
       "      <td>1</td>\n",
       "    </tr>\n",
       "    <tr>\n",
       "      <th>NLP를</th>\n",
       "      <td>1</td>\n",
       "    </tr>\n",
       "    <tr>\n",
       "      <th>공부한다.</th>\n",
       "      <td>1</td>\n",
       "    </tr>\n",
       "  </tbody>\n",
       "</table>\n",
       "</div>"
      ],
      "text/plain": [
       "       sent\n",
       "남수는       1\n",
       "25살에      1\n",
       "챗봇을       1\n",
       "만들기       1\n",
       "시작했다.     1\n",
       "NLP를      1\n",
       "공부한다.     1"
      ]
     },
     "execution_count": 27,
     "metadata": {},
     "output_type": "execute_result"
    }
   ],
   "source": [
    "import pandas as pd\n",
    "\n",
    "\n",
    "df = pd.DataFrame(pd.Series(dict([(token, 1) for token in sentence.split()])), columns=['sent'])\n",
    "\n",
    "# df = pd.DataFrame(pd.Series({token: 1 for token in real_result}), columns=['sent'])\n",
    "df"
   ]
  },
  {
   "cell_type": "code",
   "execution_count": 28,
   "metadata": {},
   "outputs": [
    {
     "data": {
      "text/html": [
       "<div>\n",
       "<style scoped>\n",
       "    .dataframe tbody tr th:only-of-type {\n",
       "        vertical-align: middle;\n",
       "    }\n",
       "\n",
       "    .dataframe tbody tr th {\n",
       "        vertical-align: top;\n",
       "    }\n",
       "\n",
       "    .dataframe thead th {\n",
       "        text-align: right;\n",
       "    }\n",
       "</style>\n",
       "<table border=\"1\" class=\"dataframe\">\n",
       "  <thead>\n",
       "    <tr style=\"text-align: right;\">\n",
       "      <th></th>\n",
       "      <th>남수는</th>\n",
       "      <th>25살에</th>\n",
       "      <th>챗봇을</th>\n",
       "      <th>만들기</th>\n",
       "      <th>시작했다.</th>\n",
       "      <th>NLP를</th>\n",
       "      <th>공부한다.</th>\n",
       "    </tr>\n",
       "  </thead>\n",
       "  <tbody>\n",
       "    <tr>\n",
       "      <th>sent</th>\n",
       "      <td>1</td>\n",
       "      <td>1</td>\n",
       "      <td>1</td>\n",
       "      <td>1</td>\n",
       "      <td>1</td>\n",
       "      <td>1</td>\n",
       "      <td>1</td>\n",
       "    </tr>\n",
       "  </tbody>\n",
       "</table>\n",
       "</div>"
      ],
      "text/plain": [
       "      남수는  25살에  챗봇을  만들기  시작했다.  NLP를  공부한다.\n",
       "sent    1     1    1    1      1     1      1"
      ]
     },
     "execution_count": 28,
     "metadata": {},
     "output_type": "execute_result"
    }
   ],
   "source": [
    "df.T  # 행렬의 전치"
   ]
  },
  {
   "cell_type": "markdown",
   "metadata": {},
   "source": [
    "#### 리스트 컴프리헨션 이해하기"
   ]
  },
  {
   "cell_type": "code",
   "execution_count": 29,
   "metadata": {},
   "outputs": [
    {
     "data": {
      "text/plain": [
       "{'남수는': 1, '25살에': 1, '챗봇을': 1, '만들기': 1, '시작했다.': 1, 'NLP를': 1, '공부한다.': 1}"
      ]
     },
     "execution_count": 29,
     "metadata": {},
     "output_type": "execute_result"
    }
   ],
   "source": [
    "data = dict([(token, 1) for token in sentence.split()])\n",
    "data"
   ]
  },
  {
   "cell_type": "code",
   "execution_count": 30,
   "metadata": {},
   "outputs": [
    {
     "data": {
      "text/plain": [
       "[('남수는', 1),\n",
       " ('25살에', 1),\n",
       " ('챗봇을', 1),\n",
       " ('만들기', 1),\n",
       " ('시작했다.', 1),\n",
       " ('남수는', 1),\n",
       " ('NLP를', 1),\n",
       " ('공부한다.', 1)]"
      ]
     },
     "execution_count": 30,
     "metadata": {},
     "output_type": "execute_result"
    }
   ],
   "source": [
    "[(token, 1) for token in sentence.split()]"
   ]
  },
  {
   "cell_type": "code",
   "execution_count": 31,
   "metadata": {},
   "outputs": [
    {
     "data": {
      "text/plain": [
       "['남수는', '리스트', '컴프리헨션을', '이해하고자', '한다.']"
      ]
     },
     "execution_count": 31,
     "metadata": {},
     "output_type": "execute_result"
    }
   ],
   "source": [
    "test_text = '남수는 리스트 컴프리헨션을 이해하고자 한다.'\n",
    "test_text.split()"
   ]
  },
  {
   "cell_type": "code",
   "execution_count": 32,
   "metadata": {},
   "outputs": [
    {
     "name": "stdout",
     "output_type": "stream",
     "text": [
      "리스트\n",
      "컴프리헨션을\n",
      "이해하고자\n",
      "한다.\n"
     ]
    }
   ],
   "source": [
    "for i in test_text.split():\n",
    "    if i != '남수는':\n",
    "        print(i)"
   ]
  },
  {
   "cell_type": "code",
   "execution_count": 33,
   "metadata": {},
   "outputs": [
    {
     "data": {
      "text/plain": [
       "['리스트', '컴프리헨션을', '이해하고자', '한다.']"
      ]
     },
     "execution_count": 33,
     "metadata": {},
     "output_type": "execute_result"
    }
   ],
   "source": [
    "result = [i for i in test_text.split() if i != '남수는']\n",
    "result"
   ]
  },
  {
   "cell_type": "markdown",
   "metadata": {},
   "source": [
    "#### 복잡한 컴프리헨션 사용하기"
   ]
  },
  {
   "cell_type": "code",
   "execution_count": 34,
   "metadata": {},
   "outputs": [
    {
     "data": {
      "text/plain": [
       "{'남수': 1, '영희': 3, '철수': 34, '챗봇': 99}"
      ]
     },
     "execution_count": 34,
     "metadata": {},
     "output_type": "execute_result"
    }
   ],
   "source": [
    "test_text = {'남수': 1, '영희': 3, '철수': 34, '챗봇': 99}\n",
    "test_text"
   ]
  },
  {
   "cell_type": "markdown",
   "metadata": {},
   "source": [
    "- 모든 원소에 20을 더하고 싶다"
   ]
  },
  {
   "cell_type": "code",
   "execution_count": 35,
   "metadata": {},
   "outputs": [
    {
     "data": {
      "text/plain": [
       "{'남수': 21, '영희': 23, '철수': 54, '챗봇': 119}"
      ]
     },
     "execution_count": 35,
     "metadata": {},
     "output_type": "execute_result"
    }
   ],
   "source": [
    "for i, v in test_text.items():\n",
    "    test_text[i] += 20\n",
    "test_text"
   ]
  },
  {
   "cell_type": "markdown",
   "metadata": {},
   "source": [
    "- 컴프리헨션을 사용해 보자"
   ]
  },
  {
   "cell_type": "code",
   "execution_count": 36,
   "metadata": {},
   "outputs": [
    {
     "data": {
      "text/plain": [
       "{'남수': 41, '영희': 43, '철수': 74, '챗봇': 139}"
      ]
     },
     "execution_count": 36,
     "metadata": {},
     "output_type": "execute_result"
    }
   ],
   "source": [
    "test_text = {i: v+20 for i, v in test_text.items()}\n",
    "test_text"
   ]
  },
  {
   "cell_type": "markdown",
   "metadata": {},
   "source": [
    "## 형태소 분석기 추가"
   ]
  },
  {
   "cell_type": "code",
   "execution_count": 37,
   "metadata": {},
   "outputs": [],
   "source": [
    "import pos_tag  # 웹을 통한 트위터 형태소 분석기"
   ]
  },
  {
   "cell_type": "code",
   "execution_count": 38,
   "metadata": {},
   "outputs": [
    {
     "data": {
      "text/plain": [
       "[('나', 'Noun'),\n",
       " ('는', 'Josa'),\n",
       " ('짱', 'Noun'),\n",
       " ('멋진', 'Adjective(멋지다)'),\n",
       " ('챗봇*', 'Noun'),\n",
       " ('을', 'Josa'),\n",
       " ('만들고', 'Verb(만들다)'),\n",
       " ('싶다', 'Verb(싶다)'),\n",
       " ('.', 'Punctuation')]"
      ]
     },
     "execution_count": 38,
     "metadata": {},
     "output_type": "execute_result"
    }
   ],
   "source": [
    "pos_tag.twitter_pos('나는 짱 멋진 챗봇을 만들고 싶다.')  # 테스트"
   ]
  },
  {
   "cell_type": "markdown",
   "metadata": {},
   "source": [
    "## 여러 문장을 이용한 BOW"
   ]
  },
  {
   "cell_type": "code",
   "execution_count": 39,
   "metadata": {},
   "outputs": [],
   "source": [
    "sentences = '남수는 25살에 챗봇을 만들기 시작했다.\\n'\n",
    "sentences += '챗봇은 주로 머신러닝과 데이터로 이루어 졌다.\\n'\n",
    "sentences += '그는 2018년에 구로디지털단지로 이사를 갔다.\\n'\n",
    "sentences += '챗봇을 사람답게 바꾸는 것은 남수의 집착이었습니다.\\n'\n",
    "sentences += '남수는 챗봇 만들기를 좋아한다.'"
   ]
  },
  {
   "cell_type": "code",
   "execution_count": 40,
   "metadata": {},
   "outputs": [
    {
     "data": {
      "text/plain": [
       "['남수는 25살에 챗봇을 만들기 시작했다.',\n",
       " '챗봇은 주로 머신러닝과 데이터로 이루어 졌다.',\n",
       " '그는 2018년에 구로디지털단지로 이사를 갔다.',\n",
       " '챗봇을 사람답게 바꾸는 것은 남수의 집착이었습니다.',\n",
       " '남수는 챗봇 만들기를 좋아한다.']"
      ]
     },
     "execution_count": 40,
     "metadata": {},
     "output_type": "execute_result"
    }
   ],
   "source": [
    "sentences.split('\\n')"
   ]
  },
  {
   "cell_type": "code",
   "execution_count": 41,
   "metadata": {},
   "outputs": [],
   "source": [
    "corpus = {}"
   ]
  },
  {
   "cell_type": "code",
   "execution_count": 42,
   "metadata": {},
   "outputs": [
    {
     "name": "stdout",
     "output_type": "stream",
     "text": [
      "[ 남수는 25살에 챗봇을 만들기 시작했다. ] 형태소 분석중...\n",
      "OK.\n",
      "[ 챗봇은 주로 머신러닝과 데이터로 이루어 졌다. ] 형태소 분석중...\n",
      "OK.\n",
      "[ 그는 2018년에 구로디지털단지로 이사를 갔다. ] 형태소 분석중...\n",
      "OK.\n",
      "[ 챗봇을 사람답게 바꾸는 것은 남수의 집착이었습니다. ] 형태소 분석중...\n",
      "OK.\n",
      "[ 남수는 챗봇 만들기를 좋아한다. ] 형태소 분석중...\n",
      "OK.\n",
      "All complete.\n"
     ]
    },
    {
     "data": {
      "text/plain": [
       "{'문장0': {'남수는/Verb(남다)': 1,\n",
       "  '25/Number': 1,\n",
       "  '살/Noun': 1,\n",
       "  '챗봇*/Noun': 1,\n",
       "  '만들기/Noun': 1,\n",
       "  '시작/Noun': 1,\n",
       "  '했다/Verb(하다)': 1},\n",
       " '문장1': {'챗봇*/Noun': 1,\n",
       "  '주로/Noun': 1,\n",
       "  '머신/Noun': 1,\n",
       "  '러닝/Noun': 1,\n",
       "  '데이터/Noun': 1,\n",
       "  '이루어/Verb(이루다)': 1,\n",
       "  '졌다/Verb(지다)': 1},\n",
       " '문장2': {'그/Noun': 1,\n",
       "  '2018년/Number': 1,\n",
       "  '에/Foreign': 1,\n",
       "  '구로/Noun': 1,\n",
       "  '디지털단지로/Noun': 1,\n",
       "  '이사/Noun': 1,\n",
       "  '갔다/Verb(가다)': 1},\n",
       " '문장3': {'챗봇*/Noun': 1,\n",
       "  '사람/Noun': 1,\n",
       "  '답/Noun': 1,\n",
       "  '바꾸는/Verb(바꾸다)': 1,\n",
       "  '것/Noun': 1,\n",
       "  '남/Noun': 1,\n",
       "  '수의/Noun': 1,\n",
       "  '집착/Noun': 1,\n",
       "  '이었습니다/Verb(이다)': 1},\n",
       " '문장4': {'남수는/Verb(남다)': 1,\n",
       "  '챗봇*/Noun': 1,\n",
       "  '만들기/Noun': 1,\n",
       "  '좋아한다/Adjective(좋아하다)': 1}}"
      ]
     },
     "execution_count": 42,
     "metadata": {},
     "output_type": "execute_result"
    }
   ],
   "source": [
    "for i, sent in enumerate(sentences.splitlines()):  # 라인별로 분리\n",
    "    print('[', sent, '] 형태소 분석중...')\n",
    "    result = pos_tag.twitter_pos(sent)  # 문장을 형태소 분석\n",
    "    corpus[f'문장{i}'] = {'/'.join(token): 1 for token in result if token[1] not in ('Josa', 'Punctuation')}\n",
    "    print('OK.')\n",
    "\n",
    "print('All complete.')\n",
    "corpus"
   ]
  },
  {
   "cell_type": "code",
   "execution_count": 43,
   "metadata": {},
   "outputs": [
    {
     "data": {
      "text/html": [
       "<div>\n",
       "<style scoped>\n",
       "    .dataframe tbody tr th:only-of-type {\n",
       "        vertical-align: middle;\n",
       "    }\n",
       "\n",
       "    .dataframe tbody tr th {\n",
       "        vertical-align: top;\n",
       "    }\n",
       "\n",
       "    .dataframe thead th {\n",
       "        text-align: right;\n",
       "    }\n",
       "</style>\n",
       "<table border=\"1\" class=\"dataframe\">\n",
       "  <thead>\n",
       "    <tr style=\"text-align: right;\">\n",
       "      <th></th>\n",
       "      <th>문장0</th>\n",
       "      <th>문장1</th>\n",
       "      <th>문장2</th>\n",
       "      <th>문장3</th>\n",
       "      <th>문장4</th>\n",
       "    </tr>\n",
       "  </thead>\n",
       "  <tbody>\n",
       "    <tr>\n",
       "      <th>2018년/Number</th>\n",
       "      <td>0</td>\n",
       "      <td>0</td>\n",
       "      <td>1</td>\n",
       "      <td>0</td>\n",
       "      <td>0</td>\n",
       "    </tr>\n",
       "    <tr>\n",
       "      <th>25/Number</th>\n",
       "      <td>1</td>\n",
       "      <td>0</td>\n",
       "      <td>0</td>\n",
       "      <td>0</td>\n",
       "      <td>0</td>\n",
       "    </tr>\n",
       "    <tr>\n",
       "      <th>갔다/Verb(가다)</th>\n",
       "      <td>0</td>\n",
       "      <td>0</td>\n",
       "      <td>1</td>\n",
       "      <td>0</td>\n",
       "      <td>0</td>\n",
       "    </tr>\n",
       "    <tr>\n",
       "      <th>것/Noun</th>\n",
       "      <td>0</td>\n",
       "      <td>0</td>\n",
       "      <td>0</td>\n",
       "      <td>1</td>\n",
       "      <td>0</td>\n",
       "    </tr>\n",
       "    <tr>\n",
       "      <th>구로/Noun</th>\n",
       "      <td>0</td>\n",
       "      <td>0</td>\n",
       "      <td>1</td>\n",
       "      <td>0</td>\n",
       "      <td>0</td>\n",
       "    </tr>\n",
       "    <tr>\n",
       "      <th>그/Noun</th>\n",
       "      <td>0</td>\n",
       "      <td>0</td>\n",
       "      <td>1</td>\n",
       "      <td>0</td>\n",
       "      <td>0</td>\n",
       "    </tr>\n",
       "    <tr>\n",
       "      <th>남/Noun</th>\n",
       "      <td>0</td>\n",
       "      <td>0</td>\n",
       "      <td>0</td>\n",
       "      <td>1</td>\n",
       "      <td>0</td>\n",
       "    </tr>\n",
       "    <tr>\n",
       "      <th>남수는/Verb(남다)</th>\n",
       "      <td>1</td>\n",
       "      <td>0</td>\n",
       "      <td>0</td>\n",
       "      <td>0</td>\n",
       "      <td>1</td>\n",
       "    </tr>\n",
       "    <tr>\n",
       "      <th>답/Noun</th>\n",
       "      <td>0</td>\n",
       "      <td>0</td>\n",
       "      <td>0</td>\n",
       "      <td>1</td>\n",
       "      <td>0</td>\n",
       "    </tr>\n",
       "    <tr>\n",
       "      <th>데이터/Noun</th>\n",
       "      <td>0</td>\n",
       "      <td>1</td>\n",
       "      <td>0</td>\n",
       "      <td>0</td>\n",
       "      <td>0</td>\n",
       "    </tr>\n",
       "    <tr>\n",
       "      <th>디지털단지로/Noun</th>\n",
       "      <td>0</td>\n",
       "      <td>0</td>\n",
       "      <td>1</td>\n",
       "      <td>0</td>\n",
       "      <td>0</td>\n",
       "    </tr>\n",
       "    <tr>\n",
       "      <th>러닝/Noun</th>\n",
       "      <td>0</td>\n",
       "      <td>1</td>\n",
       "      <td>0</td>\n",
       "      <td>0</td>\n",
       "      <td>0</td>\n",
       "    </tr>\n",
       "    <tr>\n",
       "      <th>만들기/Noun</th>\n",
       "      <td>1</td>\n",
       "      <td>0</td>\n",
       "      <td>0</td>\n",
       "      <td>0</td>\n",
       "      <td>1</td>\n",
       "    </tr>\n",
       "    <tr>\n",
       "      <th>머신/Noun</th>\n",
       "      <td>0</td>\n",
       "      <td>1</td>\n",
       "      <td>0</td>\n",
       "      <td>0</td>\n",
       "      <td>0</td>\n",
       "    </tr>\n",
       "    <tr>\n",
       "      <th>바꾸는/Verb(바꾸다)</th>\n",
       "      <td>0</td>\n",
       "      <td>0</td>\n",
       "      <td>0</td>\n",
       "      <td>1</td>\n",
       "      <td>0</td>\n",
       "    </tr>\n",
       "    <tr>\n",
       "      <th>사람/Noun</th>\n",
       "      <td>0</td>\n",
       "      <td>0</td>\n",
       "      <td>0</td>\n",
       "      <td>1</td>\n",
       "      <td>0</td>\n",
       "    </tr>\n",
       "    <tr>\n",
       "      <th>살/Noun</th>\n",
       "      <td>1</td>\n",
       "      <td>0</td>\n",
       "      <td>0</td>\n",
       "      <td>0</td>\n",
       "      <td>0</td>\n",
       "    </tr>\n",
       "    <tr>\n",
       "      <th>수의/Noun</th>\n",
       "      <td>0</td>\n",
       "      <td>0</td>\n",
       "      <td>0</td>\n",
       "      <td>1</td>\n",
       "      <td>0</td>\n",
       "    </tr>\n",
       "    <tr>\n",
       "      <th>시작/Noun</th>\n",
       "      <td>1</td>\n",
       "      <td>0</td>\n",
       "      <td>0</td>\n",
       "      <td>0</td>\n",
       "      <td>0</td>\n",
       "    </tr>\n",
       "    <tr>\n",
       "      <th>에/Foreign</th>\n",
       "      <td>0</td>\n",
       "      <td>0</td>\n",
       "      <td>1</td>\n",
       "      <td>0</td>\n",
       "      <td>0</td>\n",
       "    </tr>\n",
       "    <tr>\n",
       "      <th>이루어/Verb(이루다)</th>\n",
       "      <td>0</td>\n",
       "      <td>1</td>\n",
       "      <td>0</td>\n",
       "      <td>0</td>\n",
       "      <td>0</td>\n",
       "    </tr>\n",
       "    <tr>\n",
       "      <th>이사/Noun</th>\n",
       "      <td>0</td>\n",
       "      <td>0</td>\n",
       "      <td>1</td>\n",
       "      <td>0</td>\n",
       "      <td>0</td>\n",
       "    </tr>\n",
       "    <tr>\n",
       "      <th>이었습니다/Verb(이다)</th>\n",
       "      <td>0</td>\n",
       "      <td>0</td>\n",
       "      <td>0</td>\n",
       "      <td>1</td>\n",
       "      <td>0</td>\n",
       "    </tr>\n",
       "    <tr>\n",
       "      <th>졌다/Verb(지다)</th>\n",
       "      <td>0</td>\n",
       "      <td>1</td>\n",
       "      <td>0</td>\n",
       "      <td>0</td>\n",
       "      <td>0</td>\n",
       "    </tr>\n",
       "    <tr>\n",
       "      <th>좋아한다/Adjective(좋아하다)</th>\n",
       "      <td>0</td>\n",
       "      <td>0</td>\n",
       "      <td>0</td>\n",
       "      <td>0</td>\n",
       "      <td>1</td>\n",
       "    </tr>\n",
       "    <tr>\n",
       "      <th>주로/Noun</th>\n",
       "      <td>0</td>\n",
       "      <td>1</td>\n",
       "      <td>0</td>\n",
       "      <td>0</td>\n",
       "      <td>0</td>\n",
       "    </tr>\n",
       "    <tr>\n",
       "      <th>집착/Noun</th>\n",
       "      <td>0</td>\n",
       "      <td>0</td>\n",
       "      <td>0</td>\n",
       "      <td>1</td>\n",
       "      <td>0</td>\n",
       "    </tr>\n",
       "    <tr>\n",
       "      <th>챗봇*/Noun</th>\n",
       "      <td>1</td>\n",
       "      <td>1</td>\n",
       "      <td>0</td>\n",
       "      <td>1</td>\n",
       "      <td>1</td>\n",
       "    </tr>\n",
       "    <tr>\n",
       "      <th>했다/Verb(하다)</th>\n",
       "      <td>1</td>\n",
       "      <td>0</td>\n",
       "      <td>0</td>\n",
       "      <td>0</td>\n",
       "      <td>0</td>\n",
       "    </tr>\n",
       "  </tbody>\n",
       "</table>\n",
       "</div>"
      ],
      "text/plain": [
       "                      문장0  문장1  문장2  문장3  문장4\n",
       "2018년/Number            0    0    1    0    0\n",
       "25/Number               1    0    0    0    0\n",
       "갔다/Verb(가다)             0    0    1    0    0\n",
       "것/Noun                  0    0    0    1    0\n",
       "구로/Noun                 0    0    1    0    0\n",
       "그/Noun                  0    0    1    0    0\n",
       "남/Noun                  0    0    0    1    0\n",
       "남수는/Verb(남다)            1    0    0    0    1\n",
       "답/Noun                  0    0    0    1    0\n",
       "데이터/Noun                0    1    0    0    0\n",
       "디지털단지로/Noun             0    0    1    0    0\n",
       "러닝/Noun                 0    1    0    0    0\n",
       "만들기/Noun                1    0    0    0    1\n",
       "머신/Noun                 0    1    0    0    0\n",
       "바꾸는/Verb(바꾸다)           0    0    0    1    0\n",
       "사람/Noun                 0    0    0    1    0\n",
       "살/Noun                  1    0    0    0    0\n",
       "수의/Noun                 0    0    0    1    0\n",
       "시작/Noun                 1    0    0    0    0\n",
       "에/Foreign               0    0    1    0    0\n",
       "이루어/Verb(이루다)           0    1    0    0    0\n",
       "이사/Noun                 0    0    1    0    0\n",
       "이었습니다/Verb(이다)          0    0    0    1    0\n",
       "졌다/Verb(지다)             0    1    0    0    0\n",
       "좋아한다/Adjective(좋아하다)    0    0    0    0    1\n",
       "주로/Noun                 0    1    0    0    0\n",
       "집착/Noun                 0    0    0    1    0\n",
       "챗봇*/Noun                1    1    0    1    1\n",
       "했다/Verb(하다)             1    0    0    0    0"
      ]
     },
     "execution_count": 43,
     "metadata": {},
     "output_type": "execute_result"
    }
   ],
   "source": [
    "df = pd.DataFrame.from_records(corpus).fillna(0).astype(int)\n",
    "df"
   ]
  },
  {
   "cell_type": "code",
   "execution_count": 44,
   "metadata": {},
   "outputs": [
    {
     "data": {
      "text/html": [
       "<div>\n",
       "<style scoped>\n",
       "    .dataframe tbody tr th:only-of-type {\n",
       "        vertical-align: middle;\n",
       "    }\n",
       "\n",
       "    .dataframe tbody tr th {\n",
       "        vertical-align: top;\n",
       "    }\n",
       "\n",
       "    .dataframe thead th {\n",
       "        text-align: right;\n",
       "    }\n",
       "</style>\n",
       "<table border=\"1\" class=\"dataframe\">\n",
       "  <thead>\n",
       "    <tr style=\"text-align: right;\">\n",
       "      <th></th>\n",
       "      <th>2018년/Number</th>\n",
       "      <th>25/Number</th>\n",
       "      <th>갔다/Verb(가다)</th>\n",
       "      <th>것/Noun</th>\n",
       "      <th>구로/Noun</th>\n",
       "      <th>그/Noun</th>\n",
       "      <th>남/Noun</th>\n",
       "      <th>남수는/Verb(남다)</th>\n",
       "      <th>답/Noun</th>\n",
       "      <th>데이터/Noun</th>\n",
       "      <th>...</th>\n",
       "      <th>에/Foreign</th>\n",
       "      <th>이루어/Verb(이루다)</th>\n",
       "      <th>이사/Noun</th>\n",
       "      <th>이었습니다/Verb(이다)</th>\n",
       "      <th>졌다/Verb(지다)</th>\n",
       "      <th>좋아한다/Adjective(좋아하다)</th>\n",
       "      <th>주로/Noun</th>\n",
       "      <th>집착/Noun</th>\n",
       "      <th>챗봇*/Noun</th>\n",
       "      <th>했다/Verb(하다)</th>\n",
       "    </tr>\n",
       "  </thead>\n",
       "  <tbody>\n",
       "    <tr>\n",
       "      <th>문장0</th>\n",
       "      <td>0</td>\n",
       "      <td>1</td>\n",
       "      <td>0</td>\n",
       "      <td>0</td>\n",
       "      <td>0</td>\n",
       "      <td>0</td>\n",
       "      <td>0</td>\n",
       "      <td>1</td>\n",
       "      <td>0</td>\n",
       "      <td>0</td>\n",
       "      <td>...</td>\n",
       "      <td>0</td>\n",
       "      <td>0</td>\n",
       "      <td>0</td>\n",
       "      <td>0</td>\n",
       "      <td>0</td>\n",
       "      <td>0</td>\n",
       "      <td>0</td>\n",
       "      <td>0</td>\n",
       "      <td>1</td>\n",
       "      <td>1</td>\n",
       "    </tr>\n",
       "    <tr>\n",
       "      <th>문장1</th>\n",
       "      <td>0</td>\n",
       "      <td>0</td>\n",
       "      <td>0</td>\n",
       "      <td>0</td>\n",
       "      <td>0</td>\n",
       "      <td>0</td>\n",
       "      <td>0</td>\n",
       "      <td>0</td>\n",
       "      <td>0</td>\n",
       "      <td>1</td>\n",
       "      <td>...</td>\n",
       "      <td>0</td>\n",
       "      <td>1</td>\n",
       "      <td>0</td>\n",
       "      <td>0</td>\n",
       "      <td>1</td>\n",
       "      <td>0</td>\n",
       "      <td>1</td>\n",
       "      <td>0</td>\n",
       "      <td>1</td>\n",
       "      <td>0</td>\n",
       "    </tr>\n",
       "    <tr>\n",
       "      <th>문장2</th>\n",
       "      <td>1</td>\n",
       "      <td>0</td>\n",
       "      <td>1</td>\n",
       "      <td>0</td>\n",
       "      <td>1</td>\n",
       "      <td>1</td>\n",
       "      <td>0</td>\n",
       "      <td>0</td>\n",
       "      <td>0</td>\n",
       "      <td>0</td>\n",
       "      <td>...</td>\n",
       "      <td>1</td>\n",
       "      <td>0</td>\n",
       "      <td>1</td>\n",
       "      <td>0</td>\n",
       "      <td>0</td>\n",
       "      <td>0</td>\n",
       "      <td>0</td>\n",
       "      <td>0</td>\n",
       "      <td>0</td>\n",
       "      <td>0</td>\n",
       "    </tr>\n",
       "    <tr>\n",
       "      <th>문장3</th>\n",
       "      <td>0</td>\n",
       "      <td>0</td>\n",
       "      <td>0</td>\n",
       "      <td>1</td>\n",
       "      <td>0</td>\n",
       "      <td>0</td>\n",
       "      <td>1</td>\n",
       "      <td>0</td>\n",
       "      <td>1</td>\n",
       "      <td>0</td>\n",
       "      <td>...</td>\n",
       "      <td>0</td>\n",
       "      <td>0</td>\n",
       "      <td>0</td>\n",
       "      <td>1</td>\n",
       "      <td>0</td>\n",
       "      <td>0</td>\n",
       "      <td>0</td>\n",
       "      <td>1</td>\n",
       "      <td>1</td>\n",
       "      <td>0</td>\n",
       "    </tr>\n",
       "    <tr>\n",
       "      <th>문장4</th>\n",
       "      <td>0</td>\n",
       "      <td>0</td>\n",
       "      <td>0</td>\n",
       "      <td>0</td>\n",
       "      <td>0</td>\n",
       "      <td>0</td>\n",
       "      <td>0</td>\n",
       "      <td>1</td>\n",
       "      <td>0</td>\n",
       "      <td>0</td>\n",
       "      <td>...</td>\n",
       "      <td>0</td>\n",
       "      <td>0</td>\n",
       "      <td>0</td>\n",
       "      <td>0</td>\n",
       "      <td>0</td>\n",
       "      <td>1</td>\n",
       "      <td>0</td>\n",
       "      <td>0</td>\n",
       "      <td>1</td>\n",
       "      <td>0</td>\n",
       "    </tr>\n",
       "  </tbody>\n",
       "</table>\n",
       "<p>5 rows × 29 columns</p>\n",
       "</div>"
      ],
      "text/plain": [
       "     2018년/Number  25/Number  갔다/Verb(가다)  것/Noun  구로/Noun  그/Noun  남/Noun  \\\n",
       "문장0             0          1            0       0        0       0       0   \n",
       "문장1             0          0            0       0        0       0       0   \n",
       "문장2             1          0            1       0        1       1       0   \n",
       "문장3             0          0            0       1        0       0       1   \n",
       "문장4             0          0            0       0        0       0       0   \n",
       "\n",
       "     남수는/Verb(남다)  답/Noun  데이터/Noun     ...       에/Foreign  이루어/Verb(이루다)  \\\n",
       "문장0             1       0         0     ...               0              0   \n",
       "문장1             0       0         1     ...               0              1   \n",
       "문장2             0       0         0     ...               1              0   \n",
       "문장3             0       1         0     ...               0              0   \n",
       "문장4             1       0         0     ...               0              0   \n",
       "\n",
       "     이사/Noun  이었습니다/Verb(이다)  졌다/Verb(지다)  좋아한다/Adjective(좋아하다)  주로/Noun  \\\n",
       "문장0        0               0            0                     0        0   \n",
       "문장1        0               0            1                     0        1   \n",
       "문장2        1               0            0                     0        0   \n",
       "문장3        0               1            0                     0        0   \n",
       "문장4        0               0            0                     1        0   \n",
       "\n",
       "     집착/Noun  챗봇*/Noun  했다/Verb(하다)  \n",
       "문장0        0         1            1  \n",
       "문장1        0         1            0  \n",
       "문장2        0         0            0  \n",
       "문장3        1         1            0  \n",
       "문장4        0         1            0  \n",
       "\n",
       "[5 rows x 29 columns]"
      ]
     },
     "execution_count": 44,
     "metadata": {},
     "output_type": "execute_result"
    }
   ],
   "source": [
    "df.T  # 행렬의 전치화"
   ]
  },
  {
   "cell_type": "markdown",
   "metadata": {},
   "source": [
    "## 벡터의 내적"
   ]
  },
  {
   "cell_type": "code",
   "execution_count": 45,
   "metadata": {},
   "outputs": [
    {
     "data": {
      "text/plain": [
       "20"
      ]
     },
     "execution_count": 45,
     "metadata": {},
     "output_type": "execute_result"
    }
   ],
   "source": [
    "v1 = pd.np.array([1,2,3])\n",
    "v2 = pd.np.array([2,3,4])\n",
    "\n",
    "v1.dot(v2)"
   ]
  },
  {
   "cell_type": "code",
   "execution_count": 46,
   "metadata": {},
   "outputs": [
    {
     "data": {
      "text/plain": [
       "20"
      ]
     },
     "execution_count": 46,
     "metadata": {},
     "output_type": "execute_result"
    }
   ],
   "source": [
    "(v1 * v2).sum()  # 배열의 각 요소끼리 곱하고 각 요소의 합 역시 내적한 값과 동일"
   ]
  },
  {
   "cell_type": "code",
   "execution_count": 47,
   "metadata": {},
   "outputs": [
    {
     "data": {
      "text/plain": [
       "20"
      ]
     },
     "execution_count": 47,
     "metadata": {},
     "output_type": "execute_result"
    }
   ],
   "source": [
    "sum([x1 * x2 for x1, x2 in zip(v1, v2)])  # zip은 반복 가능한 객체들을 넣으면 그룹핑해서 반환"
   ]
  },
  {
   "cell_type": "code",
   "execution_count": 48,
   "metadata": {},
   "outputs": [
    {
     "name": "stdout",
     "output_type": "stream",
     "text": [
      "1 2\n",
      "2 3\n",
      "3 4\n"
     ]
    }
   ],
   "source": [
    "for i, v in zip(v1, v2):  # zip 설명\n",
    "    print(i, v)"
   ]
  },
  {
   "cell_type": "markdown",
   "metadata": {},
   "source": [
    "## 문장의 유사도 확인"
   ]
  },
  {
   "cell_type": "code",
   "execution_count": 49,
   "metadata": {
    "scrolled": true
   },
   "outputs": [
    {
     "data": {
      "text/plain": [
       "3"
      ]
     },
     "execution_count": 49,
     "metadata": {},
     "output_type": "execute_result"
    }
   ],
   "source": [
    "df.문장0.dot(df.문장4)  # 문장0과 문장1을 내적하면 두문장에서 겹치는 단어의 수를 알 수 있음"
   ]
  },
  {
   "cell_type": "code",
   "execution_count": 50,
   "metadata": {},
   "outputs": [
    {
     "data": {
      "text/html": [
       "<div>\n",
       "<style scoped>\n",
       "    .dataframe tbody tr th:only-of-type {\n",
       "        vertical-align: middle;\n",
       "    }\n",
       "\n",
       "    .dataframe tbody tr th {\n",
       "        vertical-align: top;\n",
       "    }\n",
       "\n",
       "    .dataframe thead th {\n",
       "        text-align: right;\n",
       "    }\n",
       "</style>\n",
       "<table border=\"1\" class=\"dataframe\">\n",
       "  <thead>\n",
       "    <tr style=\"text-align: right;\">\n",
       "      <th></th>\n",
       "      <th>문장0</th>\n",
       "      <th>문장4</th>\n",
       "    </tr>\n",
       "  </thead>\n",
       "  <tbody>\n",
       "    <tr>\n",
       "      <th>2018년/Number</th>\n",
       "      <td>0</td>\n",
       "      <td>0</td>\n",
       "    </tr>\n",
       "    <tr>\n",
       "      <th>25/Number</th>\n",
       "      <td>1</td>\n",
       "      <td>0</td>\n",
       "    </tr>\n",
       "    <tr>\n",
       "      <th>갔다/Verb(가다)</th>\n",
       "      <td>0</td>\n",
       "      <td>0</td>\n",
       "    </tr>\n",
       "    <tr>\n",
       "      <th>것/Noun</th>\n",
       "      <td>0</td>\n",
       "      <td>0</td>\n",
       "    </tr>\n",
       "    <tr>\n",
       "      <th>구로/Noun</th>\n",
       "      <td>0</td>\n",
       "      <td>0</td>\n",
       "    </tr>\n",
       "    <tr>\n",
       "      <th>그/Noun</th>\n",
       "      <td>0</td>\n",
       "      <td>0</td>\n",
       "    </tr>\n",
       "    <tr>\n",
       "      <th>남/Noun</th>\n",
       "      <td>0</td>\n",
       "      <td>0</td>\n",
       "    </tr>\n",
       "    <tr>\n",
       "      <th>남수는/Verb(남다)</th>\n",
       "      <td>1</td>\n",
       "      <td>1</td>\n",
       "    </tr>\n",
       "    <tr>\n",
       "      <th>답/Noun</th>\n",
       "      <td>0</td>\n",
       "      <td>0</td>\n",
       "    </tr>\n",
       "    <tr>\n",
       "      <th>데이터/Noun</th>\n",
       "      <td>0</td>\n",
       "      <td>0</td>\n",
       "    </tr>\n",
       "    <tr>\n",
       "      <th>디지털단지로/Noun</th>\n",
       "      <td>0</td>\n",
       "      <td>0</td>\n",
       "    </tr>\n",
       "    <tr>\n",
       "      <th>러닝/Noun</th>\n",
       "      <td>0</td>\n",
       "      <td>0</td>\n",
       "    </tr>\n",
       "    <tr>\n",
       "      <th>만들기/Noun</th>\n",
       "      <td>1</td>\n",
       "      <td>1</td>\n",
       "    </tr>\n",
       "    <tr>\n",
       "      <th>머신/Noun</th>\n",
       "      <td>0</td>\n",
       "      <td>0</td>\n",
       "    </tr>\n",
       "    <tr>\n",
       "      <th>바꾸는/Verb(바꾸다)</th>\n",
       "      <td>0</td>\n",
       "      <td>0</td>\n",
       "    </tr>\n",
       "    <tr>\n",
       "      <th>사람/Noun</th>\n",
       "      <td>0</td>\n",
       "      <td>0</td>\n",
       "    </tr>\n",
       "    <tr>\n",
       "      <th>살/Noun</th>\n",
       "      <td>1</td>\n",
       "      <td>0</td>\n",
       "    </tr>\n",
       "    <tr>\n",
       "      <th>수의/Noun</th>\n",
       "      <td>0</td>\n",
       "      <td>0</td>\n",
       "    </tr>\n",
       "    <tr>\n",
       "      <th>시작/Noun</th>\n",
       "      <td>1</td>\n",
       "      <td>0</td>\n",
       "    </tr>\n",
       "    <tr>\n",
       "      <th>에/Foreign</th>\n",
       "      <td>0</td>\n",
       "      <td>0</td>\n",
       "    </tr>\n",
       "    <tr>\n",
       "      <th>이루어/Verb(이루다)</th>\n",
       "      <td>0</td>\n",
       "      <td>0</td>\n",
       "    </tr>\n",
       "    <tr>\n",
       "      <th>이사/Noun</th>\n",
       "      <td>0</td>\n",
       "      <td>0</td>\n",
       "    </tr>\n",
       "    <tr>\n",
       "      <th>이었습니다/Verb(이다)</th>\n",
       "      <td>0</td>\n",
       "      <td>0</td>\n",
       "    </tr>\n",
       "    <tr>\n",
       "      <th>졌다/Verb(지다)</th>\n",
       "      <td>0</td>\n",
       "      <td>0</td>\n",
       "    </tr>\n",
       "    <tr>\n",
       "      <th>좋아한다/Adjective(좋아하다)</th>\n",
       "      <td>0</td>\n",
       "      <td>1</td>\n",
       "    </tr>\n",
       "    <tr>\n",
       "      <th>주로/Noun</th>\n",
       "      <td>0</td>\n",
       "      <td>0</td>\n",
       "    </tr>\n",
       "    <tr>\n",
       "      <th>집착/Noun</th>\n",
       "      <td>0</td>\n",
       "      <td>0</td>\n",
       "    </tr>\n",
       "    <tr>\n",
       "      <th>챗봇*/Noun</th>\n",
       "      <td>1</td>\n",
       "      <td>1</td>\n",
       "    </tr>\n",
       "    <tr>\n",
       "      <th>했다/Verb(하다)</th>\n",
       "      <td>1</td>\n",
       "      <td>0</td>\n",
       "    </tr>\n",
       "  </tbody>\n",
       "</table>\n",
       "</div>"
      ],
      "text/plain": [
       "                      문장0  문장4\n",
       "2018년/Number            0    0\n",
       "25/Number               1    0\n",
       "갔다/Verb(가다)             0    0\n",
       "것/Noun                  0    0\n",
       "구로/Noun                 0    0\n",
       "그/Noun                  0    0\n",
       "남/Noun                  0    0\n",
       "남수는/Verb(남다)            1    1\n",
       "답/Noun                  0    0\n",
       "데이터/Noun                0    0\n",
       "디지털단지로/Noun             0    0\n",
       "러닝/Noun                 0    0\n",
       "만들기/Noun                1    1\n",
       "머신/Noun                 0    0\n",
       "바꾸는/Verb(바꾸다)           0    0\n",
       "사람/Noun                 0    0\n",
       "살/Noun                  1    0\n",
       "수의/Noun                 0    0\n",
       "시작/Noun                 1    0\n",
       "에/Foreign               0    0\n",
       "이루어/Verb(이루다)           0    0\n",
       "이사/Noun                 0    0\n",
       "이었습니다/Verb(이다)          0    0\n",
       "졌다/Verb(지다)             0    0\n",
       "좋아한다/Adjective(좋아하다)    0    1\n",
       "주로/Noun                 0    0\n",
       "집착/Noun                 0    0\n",
       "챗봇*/Noun                1    1\n",
       "했다/Verb(하다)             1    0"
      ]
     },
     "execution_count": 50,
     "metadata": {},
     "output_type": "execute_result"
    }
   ],
   "source": [
    "df[['문장0', '문장4']]"
   ]
  },
  {
   "cell_type": "markdown",
   "metadata": {},
   "source": [
    "## 겹치는 원소 확인하기"
   ]
  },
  {
   "cell_type": "code",
   "execution_count": 51,
   "metadata": {},
   "outputs": [
    {
     "data": {
      "text/plain": [
       "[('남수는/Verb(남다)', 1), ('만들기/Noun', 1), ('챗봇*/Noun', 1)]"
      ]
     },
     "execution_count": 51,
     "metadata": {},
     "output_type": "execute_result"
    }
   ],
   "source": [
    "# [(k, v) for (k, v) in (df.문장0 & df.문장1).items() if v]  # 설명\n",
    "\n",
    "overlap = []\n",
    "for k, v in (df.문장0 & df.문장4).items():\n",
    "    if v:\n",
    "        overlap.append((k,v))\n",
    "overlap"
   ]
  },
  {
   "cell_type": "code",
   "execution_count": 52,
   "metadata": {},
   "outputs": [
    {
     "data": {
      "text/plain": [
       "2018년/Number            0\n",
       "25/Number               0\n",
       "갔다/Verb(가다)             0\n",
       "것/Noun                  0\n",
       "구로/Noun                 0\n",
       "그/Noun                  0\n",
       "남/Noun                  0\n",
       "남수는/Verb(남다)            1\n",
       "답/Noun                  0\n",
       "데이터/Noun                0\n",
       "디지털단지로/Noun             0\n",
       "러닝/Noun                 0\n",
       "만들기/Noun                1\n",
       "머신/Noun                 0\n",
       "바꾸는/Verb(바꾸다)           0\n",
       "사람/Noun                 0\n",
       "살/Noun                  0\n",
       "수의/Noun                 0\n",
       "시작/Noun                 0\n",
       "에/Foreign               0\n",
       "이루어/Verb(이루다)           0\n",
       "이사/Noun                 0\n",
       "이었습니다/Verb(이다)          0\n",
       "졌다/Verb(지다)             0\n",
       "좋아한다/Adjective(좋아하다)    0\n",
       "주로/Noun                 0\n",
       "집착/Noun                 0\n",
       "챗봇*/Noun                1\n",
       "했다/Verb(하다)             0\n",
       "dtype: int64"
      ]
     },
     "execution_count": 52,
     "metadata": {},
     "output_type": "execute_result"
    }
   ],
   "source": [
    "df.문장0 & df.문장4  # and 연산 가능"
   ]
  },
  {
   "cell_type": "code",
   "execution_count": 53,
   "metadata": {},
   "outputs": [
    {
     "name": "stdout",
     "output_type": "stream",
     "text": [
      "k: 2018년/Number v: 0\n",
      "k: 25/Number v: 0\n",
      "k: 갔다/Verb(가다) v: 0\n",
      "k: 것/Noun v: 0\n",
      "k: 구로/Noun v: 0\n",
      "k: 그/Noun v: 0\n",
      "k: 남/Noun v: 0\n",
      "k: 남수는/Verb(남다) v: 1\n",
      "k: 답/Noun v: 0\n",
      "k: 데이터/Noun v: 0\n",
      "k: 디지털단지로/Noun v: 0\n",
      "k: 러닝/Noun v: 0\n",
      "k: 만들기/Noun v: 1\n",
      "k: 머신/Noun v: 0\n",
      "k: 바꾸는/Verb(바꾸다) v: 0\n",
      "k: 사람/Noun v: 0\n",
      "k: 살/Noun v: 0\n",
      "k: 수의/Noun v: 0\n",
      "k: 시작/Noun v: 0\n",
      "k: 에/Foreign v: 0\n",
      "k: 이루어/Verb(이루다) v: 0\n",
      "k: 이사/Noun v: 0\n",
      "k: 이었습니다/Verb(이다) v: 0\n",
      "k: 졌다/Verb(지다) v: 0\n",
      "k: 좋아한다/Adjective(좋아하다) v: 0\n",
      "k: 주로/Noun v: 0\n",
      "k: 집착/Noun v: 0\n",
      "k: 챗봇*/Noun v: 1\n",
      "k: 했다/Verb(하다) v: 0\n"
     ]
    }
   ],
   "source": [
    "for k, v in (df.문장0 & df.문장4).items():\n",
    "    print('k:',k, 'v:',v)"
   ]
  },
  {
   "cell_type": "markdown",
   "metadata": {},
   "source": [
    "## 정규식을 사용해요"
   ]
  },
  {
   "cell_type": "code",
   "execution_count": 54,
   "metadata": {},
   "outputs": [],
   "source": [
    "import re  # 정규식을 사용하기 위한 모듈"
   ]
  },
  {
   "cell_type": "code",
   "execution_count": 55,
   "metadata": {},
   "outputs": [
    {
     "data": {
      "text/plain": [
       "['남수는', '25살에', '챗봇을', '만들기', '시작했다', '']"
      ]
     },
     "execution_count": 55,
     "metadata": {},
     "output_type": "execute_result"
    }
   ],
   "source": [
    "sentence = '남수는 25살에 챗봇을 만들기 시작했다.'\n",
    "tokens = re.split(r'[-\\s.,;!?]+', sentence)  # 정규식 조건을 기준으로 분리\n",
    "tokens"
   ]
  },
  {
   "cell_type": "markdown",
   "metadata": {},
   "source": [
    "#### 패턴을 이용하여 반복사용"
   ]
  },
  {
   "cell_type": "code",
   "execution_count": 56,
   "metadata": {},
   "outputs": [
    {
     "data": {
      "text/plain": [
       "['남수는', '25살에', '챗봇을', '만들기', '시작했다', '']"
      ]
     },
     "execution_count": 56,
     "metadata": {},
     "output_type": "execute_result"
    }
   ],
   "source": [
    "pattern = re.compile(r'[-\\s.,;!?]+')\n",
    "\n",
    "tokens = pattern.split(sentence)\n",
    "tokens"
   ]
  },
  {
   "cell_type": "code",
   "execution_count": 57,
   "metadata": {},
   "outputs": [
    {
     "data": {
      "text/plain": [
       "['시작했다', '']"
      ]
     },
     "execution_count": 57,
     "metadata": {},
     "output_type": "execute_result"
    }
   ],
   "source": [
    "tokens[-2:]  # 뒤에서 두번째부터 끝까지"
   ]
  },
  {
   "cell_type": "code",
   "execution_count": 58,
   "metadata": {},
   "outputs": [
    {
     "data": {
      "text/plain": [
       "['남수는', '25살에', '챗봇을', '만들기', '시작했다']"
      ]
     },
     "execution_count": 58,
     "metadata": {},
     "output_type": "execute_result"
    }
   ],
   "source": [
    "sentence = '남수는 25살에 챗봇을 만들기 시작했다.'\n",
    "tokens = pattern.split(sentence)\n",
    "\n",
    "[x for x in tokens if x and x not in '- \\t\\n.,;!?']  # 복잡한 리스트 컴프리헨션"
   ]
  },
  {
   "cell_type": "code",
   "execution_count": 59,
   "metadata": {},
   "outputs": [
    {
     "data": {
      "text/plain": [
       "['남수는', '25살에', '챗봇을', '만들기', '시작했다']"
      ]
     },
     "execution_count": 59,
     "metadata": {},
     "output_type": "execute_result"
    }
   ],
   "source": [
    "# 같은 로직을 쓰려면 길고 추가 변수 필요\n",
    "new_data = []\n",
    "\n",
    "for x in tokens:\n",
    "    if x and x not in '- \\t\\n.,;!?':\n",
    "        new_data.append(x)\n",
    "        \n",
    "new_data"
   ]
  },
  {
   "cell_type": "markdown",
   "metadata": {},
   "source": [
    "## NLTK를 사용해요"
   ]
  },
  {
   "cell_type": "code",
   "execution_count": 60,
   "metadata": {},
   "outputs": [],
   "source": [
    "from nltk.tokenize import RegexpTokenizer"
   ]
  },
  {
   "cell_type": "code",
   "execution_count": 61,
   "metadata": {},
   "outputs": [
    {
     "data": {
      "text/plain": [
       "['남수는', '25', '살에', '챗봇을', '만들기', '시작했다.']"
      ]
     },
     "execution_count": 61,
     "metadata": {},
     "output_type": "execute_result"
    }
   ],
   "source": [
    "tokenizer = RegexpTokenizer(r'[0-9.]+|\\S+')\n",
    "tokenizer.tokenize(sentence)"
   ]
  },
  {
   "cell_type": "code",
   "execution_count": 62,
   "metadata": {},
   "outputs": [
    {
     "data": {
      "text/plain": [
       "['남수는', '25살에', '챗봇을', '만들기', '시작했다', '.']"
      ]
     },
     "execution_count": 62,
     "metadata": {},
     "output_type": "execute_result"
    }
   ],
   "source": [
    "from nltk.tokenize import TreebankWordTokenizer\n",
    "tokenizer = TreebankWordTokenizer()\n",
    "tokenizer.tokenize(sentence)"
   ]
  },
  {
   "cell_type": "markdown",
   "metadata": {},
   "source": [
    "## 한국어에는 좀 안 맞는것 같다"
   ]
  },
  {
   "cell_type": "markdown",
   "metadata": {},
   "source": [
    "## N-gram"
   ]
  },
  {
   "cell_type": "code",
   "execution_count": 63,
   "metadata": {},
   "outputs": [
    {
     "data": {
      "text/plain": [
       "['남수는', ' ', '25살에', ' ', '챗봇을', ' ', '만들기', ' ', '시작했다', '.', '']"
      ]
     },
     "execution_count": 63,
     "metadata": {},
     "output_type": "execute_result"
    }
   ],
   "source": [
    "sentence = '남수는 25살에 챗봇을 만들기 시작했다.'\n",
    "pattern = re.compile(r\"([-\\s.,;!?])+\")\n",
    "tokens = pattern.split(sentence)\n",
    "tokens"
   ]
  },
  {
   "cell_type": "code",
   "execution_count": 64,
   "metadata": {},
   "outputs": [
    {
     "data": {
      "text/plain": [
       "['남수는', '25살에', '챗봇을', '만들기', '시작했다']"
      ]
     },
     "execution_count": 64,
     "metadata": {},
     "output_type": "execute_result"
    }
   ],
   "source": [
    "tokens = [x for x in tokens if x and x not in '- \\t\\n.,;!?']\n",
    "tokens"
   ]
  },
  {
   "cell_type": "code",
   "execution_count": 65,
   "metadata": {},
   "outputs": [
    {
     "name": "stdout",
     "output_type": "stream",
     "text": [
      "<generator object ngrams at 0x7f840071e6d0>\n"
     ]
    },
    {
     "data": {
      "text/plain": [
       "[('남수는', '25살에'), ('25살에', '챗봇을'), ('챗봇을', '만들기'), ('만들기', '시작했다')]"
      ]
     },
     "execution_count": 65,
     "metadata": {},
     "output_type": "execute_result"
    }
   ],
   "source": [
    "from nltk.util import ngrams\n",
    "print(ngrams(tokens, 2))\n",
    "list(ngrams(tokens, 2))  # 결과가 제너레이터여서 결과를 보기 위해 리스트화"
   ]
  },
  {
   "cell_type": "code",
   "execution_count": 66,
   "metadata": {},
   "outputs": [
    {
     "data": {
      "text/plain": [
       "[('남수는', '25살에', '챗봇을'), ('25살에', '챗봇을', '만들기'), ('챗봇을', '만들기', '시작했다')]"
      ]
     },
     "execution_count": 66,
     "metadata": {},
     "output_type": "execute_result"
    }
   ],
   "source": [
    "list(ngrams(tokens, 3))"
   ]
  },
  {
   "cell_type": "markdown",
   "metadata": {},
   "source": [
    "#### N-gram 결과와 비교하기 위해 문자열화"
   ]
  },
  {
   "cell_type": "code",
   "execution_count": 67,
   "metadata": {},
   "outputs": [
    {
     "data": {
      "text/plain": [
       "['남수는 25살에', '25살에 챗봇을', '챗봇을 만들기', '만들기 시작했다']"
      ]
     },
     "execution_count": 67,
     "metadata": {},
     "output_type": "execute_result"
    }
   ],
   "source": [
    "two_grams = list(ngrams(tokens, 2))\n",
    "[\" \".join(x) for x in two_grams]  # 두개의 단어를 하나의 문자열로 만드는 리스트 컴프리헨션"
   ]
  },
  {
   "cell_type": "markdown",
   "metadata": {},
   "source": [
    "## Stop words"
   ]
  },
  {
   "cell_type": "markdown",
   "metadata": {},
   "source": [
    "- 너무 영문에 최적화 되어있어서 패스\n",
    "- 책을 한 번 읽어보는게 더 유용하리라 생각됩니다"
   ]
  },
  {
   "cell_type": "markdown",
   "metadata": {},
   "source": [
    "## 정규화"
   ]
  },
  {
   "cell_type": "markdown",
   "metadata": {},
   "source": [
    "#### 트위터 형태소 분석 내부에 정규화를 거친 뒤 pos태깅 하였음"
   ]
  }
 ],
 "metadata": {
  "kernelspec": {
   "display_name": "Python 3",
   "language": "python",
   "name": "python3"
  },
  "language_info": {
   "codemirror_mode": {
    "name": "ipython",
    "version": 3
   },
   "file_extension": ".py",
   "mimetype": "text/x-python",
   "name": "python",
   "nbconvert_exporter": "python",
   "pygments_lexer": "ipython3",
   "version": "3.6.7"
  }
 },
 "nbformat": 4,
 "nbformat_minor": 2
}