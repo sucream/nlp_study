{
 "cells": [
  {
   "cell_type": "markdown",
   "metadata": {},
   "source": [
    "## requests 모듈을 이용한 트위터 POS 웹 요청"
   ]
  },
  {
   "cell_type": "code",
   "execution_count": null,
   "metadata": {},
   "outputs": [],
   "source": [
    "!pip install requests\n",
    "# 해당 모듈 사용을 위한 설치, 직접 커맨드에서 pip install requests 하셔도 됩니다."
   ]
  },
  {
   "cell_type": "code",
   "execution_count": 1,
   "metadata": {},
   "outputs": [],
   "source": [
    "import re\n",
    "import requests\n",
    "from urllib import parse  # 한글을 올바르게 전달하기 위해 인코딩"
   ]
  },
  {
   "cell_type": "code",
   "execution_count": 2,
   "metadata": {},
   "outputs": [],
   "source": [
    "pt = re.compile(r'(?P<text>.+?)\\((?P<pos>.+):.+\\)')\n",
    "# 주로(Noun: 4, 2) 같은 패턴을 text와 pos로 분리해서 사용하기 위한 정규식"
   ]
  },
  {
   "cell_type": "code",
   "execution_count": 14,
   "metadata": {},
   "outputs": [],
   "source": [
    "def request_pos(sentence):\n",
    "    sentence = parse.quote(sentence)  # 한글 인코딩\n",
    "    # print(sentence) 어떻게 변경되는지 확인해보세요\n",
    "    \n",
    "    url = 'https://open-korean-text-api.herokuapp.com/normalize?text='\n",
    "    \n",
    "    sentence = requests.get(url=url+sentence, timeout=5).json()\n",
    "    sentence = parse.quote(sentence['strings'])  # 한글 인코딩\n",
    "    \n",
    "    url = 'https://open-korean-text-api.herokuapp.com/tokenize?text='\n",
    "    response = requests.get(url=url+sentence, timeout=5).json()  # 웹 요청한 결과를 json(dict)으로\n",
    "\n",
    "    tokens = []\n",
    "    for i in response['tokens']:\n",
    "        m = pt.match(i)\n",
    "        if m:\n",
    "            tokens.append((m.group('text'), m.group('pos')))\n",
    "        \n",
    "    return tokens"
   ]
  },
  {
   "cell_type": "code",
   "execution_count": 15,
   "metadata": {},
   "outputs": [
    {
     "name": "stdout",
     "output_type": "stream",
     "text": [
      "{'strings': '지금 당장 집에 가서 쉬고 싶엉. 나는 너무 지쳤어ㅋㅋ. 오늘 너무 힘들었는데, 아무도 내게 말 한마디 없어.'}\n"
     ]
    },
    {
     "data": {
      "text/plain": [
       "[('지금', 'Noun'),\n",
       " ('당장', 'Noun'),\n",
       " ('집', 'Noun'),\n",
       " ('에', 'Josa'),\n",
       " ('가서', 'Verb(가다)'),\n",
       " ('쉬', 'Noun'),\n",
       " ('고', 'Josa'),\n",
       " ('싶', 'Verb(싶다)'),\n",
       " ('엉', 'Exclamation'),\n",
       " ('.', 'Punctuation'),\n",
       " ('나', 'Noun'),\n",
       " ('는', 'Josa'),\n",
       " ('너무', 'Adverb'),\n",
       " ('지쳤어', 'Verb(지치다)'),\n",
       " ('ㅋㅋ', 'KoreanParticle'),\n",
       " ('.', 'Punctuation'),\n",
       " ('오늘', 'Noun'),\n",
       " ('너무', 'Adverb'),\n",
       " ('힘들었는데', 'Adjective(힘들다)'),\n",
       " (',', 'Punctuation'),\n",
       " ('아무', 'Noun'),\n",
       " ('도', 'Josa'),\n",
       " ('내게', 'Verb(내다)'),\n",
       " ('말', 'Noun'),\n",
       " ('한마디', 'Noun'),\n",
       " ('없어', 'Adjective(없다)'),\n",
       " ('.', 'Punctuation')]"
      ]
     },
     "execution_count": 15,
     "metadata": {},
     "output_type": "execute_result"
    }
   ],
   "source": [
    "result = request_pos('지금 당장 집에 가서 쉬고 싶엉. 나는 너무 지쳤엌ㅋㅋ. 오늘 너무 힘들었는데, 아무도 내게 말 한마디 없어.')\n",
    "result"
   ]
  },
  {
   "cell_type": "code",
   "execution_count": null,
   "metadata": {},
   "outputs": [],
   "source": []
  }
 ],
 "metadata": {
  "kernelspec": {
   "display_name": "Python 3",
   "language": "python",
   "name": "python3"
  },
  "language_info": {
   "codemirror_mode": {
    "name": "ipython",
    "version": 3
   },
   "file_extension": ".py",
   "mimetype": "text/x-python",
   "name": "python",
   "nbconvert_exporter": "python",
   "pygments_lexer": "ipython3",
   "version": "3.6.5"
  }
 },
 "nbformat": 4,
 "nbformat_minor": 2
}
